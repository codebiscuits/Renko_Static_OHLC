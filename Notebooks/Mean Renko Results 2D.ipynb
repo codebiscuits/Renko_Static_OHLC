{
 "cells": [
  {
   "cell_type": "code",
   "execution_count": 11,
   "metadata": {},
   "outputs": [],
   "source": [
    "import pandas as pd\n",
    "import plotly.io as pio\n",
    "import numpy as np\n",
    "from pathlib import Path\n",
    "from collections import Counter"
   ]
  },
  {
   "cell_type": "code",
   "execution_count": 12,
   "metadata": {},
   "outputs": [],
   "source": [
    "timescale = '1m'\n",
    "# sizes = (10, 2010)\n",
    "# confs = (0, 1500)\n",
    "# step = 20\n",
    "# start = '2020-01-01'\n",
    "# end = '2020-01-31'\n",
    "\n",
    "# params = (f'ma{ma[0]}-{ma[1]}_sl{risk[0]}-{risk[1]}_div10_step{step}')\n",
    "folder = Path(f'V:/results/renko_static_ohlc/backtest/sizes10-500-10_confs0-4')"
   ]
  },
  {
   "cell_type": "code",
   "execution_count": 13,
   "metadata": {},
   "outputs": [],
   "source": [
    "files_list = list(folder.glob('*.csv'))\n",
    "pairs_list = [file.stem[:-3] for file in files_list]\n",
    "names_list = [file.name for file in files_list]\n",
    "df_list = [pd.read_csv(folder / name, index_col=0) for name in names_list]\n",
    "df_dict = dict(zip(pairs_list, df_list))"
   ]
  },
  {
   "cell_type": "code",
   "execution_count": 14,
   "metadata": {},
   "outputs": [
    {
     "name": "stdout",
     "output_type": "stream",
     "text": [
      "Data sets included: 133\n"
     ]
    }
   ],
   "source": [
    "print(f'Data sets included: {len(names_list)}')"
   ]
  },
  {
   "cell_type": "code",
   "execution_count": 16,
   "metadata": {},
   "outputs": [
    {
     "ename": "AttributeError",
     "evalue": "'NoneType' object has no attribute 'head'",
     "output_type": "error",
     "traceback": [
      "\u001b[1;31m---------------------------------------------------------------------------\u001b[0m",
      "\u001b[1;31mAttributeError\u001b[0m                            Traceback (most recent call last)",
      "\u001b[1;32m<ipython-input-16-0eb54aa41670>\u001b[0m in \u001b[0;36m<module>\u001b[1;34m\u001b[0m\n\u001b[0;32m      1\u001b[0m \u001b[0mdf\u001b[0m \u001b[1;33m=\u001b[0m \u001b[0mdf_dict\u001b[0m\u001b[1;33m.\u001b[0m\u001b[0mget\u001b[0m\u001b[1;33m(\u001b[0m\u001b[1;34m'ADAUSDT'\u001b[0m\u001b[1;33m)\u001b[0m\u001b[1;33m\u001b[0m\u001b[1;33m\u001b[0m\u001b[0m\n\u001b[1;32m----> 2\u001b[1;33m \u001b[0mdf\u001b[0m\u001b[1;33m.\u001b[0m\u001b[0mhead\u001b[0m\u001b[1;33m(\u001b[0m\u001b[1;36m10\u001b[0m\u001b[1;33m)\u001b[0m\u001b[1;33m\u001b[0m\u001b[1;33m\u001b[0m\u001b[0m\n\u001b[0m",
      "\u001b[1;31mAttributeError\u001b[0m: 'NoneType' object has no attribute 'head'"
     ]
    }
   ],
   "source": [
    "# df = df_dict.get('ADAUSDT')\n",
    "# df.head(10)"
   ]
  },
  {
   "cell_type": "code",
   "execution_count": 21,
   "metadata": {},
   "outputs": [
    {
     "name": "stdout",
     "output_type": "stream",
     "text": [
      "0: None, 1: 471, 2: 31, 3: 1\n"
     ]
    }
   ],
   "source": [
    "conf_count = Counter()\n",
    "for i in range(len(df_list)):\n",
    "    df = df_list[i]\n",
    "    df_filter = df.loc[df['num trades'] > 30, ['confs', 'sqn']]\n",
    "    df_filter = df_filter.loc[df['sqn'] > 5, :]\n",
    "    df_filter.sort_values('sqn', ascending=False, inplace=True)\n",
    "    short = df_filter.head(10)\n",
    "#     if len(short.index > 0):\n",
    "#         print(names_list[i])\n",
    "    df_confs = list(short['confs'])\n",
    "    for i in df_confs:\n",
    "        conf_count[i] += 1\n",
    "\n",
    "a = conf_count.get(0)\n",
    "b = conf_count.get(1)\n",
    "c = conf_count.get(2)\n",
    "d = conf_count.get(3)\n",
    "\n",
    "print(f'0: {a}, 1: {b}, 2: {c}, 3: {d}')"
   ]
  },
  {
   "cell_type": "code",
   "execution_count": null,
   "metadata": {},
   "outputs": [],
   "source": [
    "# mean_df = pd.concat(df_list).median(level=0)\n",
    "# mean_df = mean_df[mean_df['sqn'] >= 1]\n",
    "# mean_df['sqn'].max()"
   ]
  },
  {
   "cell_type": "code",
   "execution_count": null,
   "metadata": {},
   "outputs": [],
   "source": [
    "fig = {\n",
    "    \"data\": [{\"type\": \"heatmap\", \"x\": df['size'], \"y\": df['confs'], \"z\": df['profit'], \n",
    "              'colorscale': \n",
    "              [[0, 'rgb(255,255,255)'], \n",
    "#                [0.95, 'rgb(255,255,255)'], \n",
    "               [1, 'rgb(0,0,0)']]\n",
    "             }],\n",
    "    \"layout\": {\"title\": {\"text\": \"Renko Fixed OHLC Optimisation Results\"},\n",
    "               \"xaxis\": {\"title\": {\"text\": \"Brick Size\"}},\n",
    "               \"yaxis\": {\"title\": {\"text\": \"Confirmations\"}}\n",
    "              }\n",
    "}\n",
    "\n",
    "pio.show(fig)"
   ]
  },
  {
   "cell_type": "code",
   "execution_count": null,
   "metadata": {},
   "outputs": [],
   "source": [
    "mean_df[['sqn', 'strike_rate', 'pnl_avg', 'total_closed']].describe()"
   ]
  },
  {
   "cell_type": "code",
   "execution_count": null,
   "metadata": {},
   "outputs": [],
   "source": []
  }
 ],
 "metadata": {
  "kernelspec": {
   "display_name": "Python 3",
   "language": "python",
   "name": "python3"
  },
  "language_info": {
   "codemirror_mode": {
    "name": "ipython",
    "version": 3
   },
   "file_extension": ".py",
   "mimetype": "text/x-python",
   "name": "python",
   "nbconvert_exporter": "python",
   "pygments_lexer": "ipython3",
   "version": "3.7.6"
  }
 },
 "nbformat": 4,
 "nbformat_minor": 4
}
